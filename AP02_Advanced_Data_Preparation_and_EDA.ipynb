{
 "cells": [
  {
   "cell_type": "markdown",
   "id": "4cf56921",
   "metadata": {},
   "source": [
    "# Arbeitspaket (AP) 2: Advanced Data Preparation & Exploratory Data Analysis (EDA)"
   ]
  },
  {
   "cell_type": "markdown",
   "id": "0f7fb22f",
   "metadata": {},
   "source": [
    "### Persönliche Angaben (bitte ergänzen)"
   ]
  },
  {
   "cell_type": "markdown",
   "id": "94d35a25",
   "metadata": {},
   "source": [
    "<table>\n",
    "  <tr>\n",
    "    <td>Vorname:</td>\n",
    "    <td>Raffael</td>\n",
    "  </tr>\n",
    "  <tr>\n",
    "    <td>Nachname:</td>\n",
    "    <td>Kummer</td>\n",
    "  </tr>\n",
    "  <tr>\n",
    "    <td>Immatrikulationsnummer:</td>\n",
    "    <td>15-131-337</td>\n",
    "  </tr>\n",
    "  <tr>\n",
    "    <td>Modul:</td>\n",
    "    <td>Data Science</td>\n",
    "  </tr>\n",
    "  <tr>\n",
    "    <td>Prüfungsdatum / Raum / Zeit:</td>\n",
    "    <td>11.11.2024 / Raum: SF O3.54 / 8:00 – 11:45</td>\n",
    "  </tr>\n",
    "  <tr>\n",
    "    <td>Erlaubte Hilfsmittel:</td>\n",
    "    <td>w.MA.XX.DS.24HS (Data Science)<br>Open Book, Eigener Computer, Internet-Zugang</td>\n",
    "  </tr>\n",
    "  <tr>\n",
    "  <td>Nicht erlaubt:</td>\n",
    "  <td>Nicht erlaubt ist der Einsatz beliebiger Formen von generativer KI (z.B. Copilot, ChatGPT) <br> sowie beliebige Formen von Kommunikation oder Kollaboration mit anderen Menschen.</td>\n",
    "</tr>\n",
    "</table>"
   ]
  },
  {
   "cell_type": "markdown",
   "id": "61847f62",
   "metadata": {},
   "source": [
    "## Bewertungskriterien\n",
    "\n",
    "### <b style=\"color: gray;\">(max. erreichbare Punkte: 48)</b>\n",
    "\n",
    "<table>\n",
    "  <thead>\n",
    "    <tr>\n",
    "      <th>Kategorie</th>\n",
    "      <th>Beschreibung</th>\n",
    "      <th>Punkteverteilung</th>\n",
    "    </tr>\n",
    "  </thead>\n",
    "  <tbody>\n",
    "    <tr>\n",
    "      <td>Code nicht lauffähig oder Ergebnisse nicht sinnvoll</td>\n",
    "      <td>Der Code enthält Fehler, die verhindern, dass er ausgeführt werden kann (z.B. Syntaxfehler) oder es werden Ergebnisse ausgegeben, welche nicht zur Fragestellung passen.</td>\n",
    "      <td>0 Punkte</td>\n",
    "    </tr>\n",
    "    <tr>\n",
    "      <td>Code lauffähig, aber mit gravierenden Mängeln</td>\n",
    "      <td>Der Code läuft, aber die Ergebnisse sind aufgrund wesentlicher Fehler unvollständig (z.B. fehlerhaftes Erstellen von Subsets der Daten). Nur geringer Fortschritt erkennbar.</td>\n",
    "      <td>25% der max. erreichbaren Punkte</td>\n",
    "    </tr>\n",
    "    <tr>\n",
    "      <td>Code lauffähig, aber mit mittleren Mängeln</td>\n",
    "      <td>Der Code läuft und liefert teilweise korrekte Ergebnisse, aber es gibt grössere Fehler (z.B. Datenvisualisierungen entsprechen nicht den Vorgaben gemäss Fragestellung). Die Ergebnisse sind nachvollziehbar, aber unvollständig oder ungenau.</td>\n",
    "      <td>50% der max. erreichbaren Punkte</td>\n",
    "    </tr>\n",
    "    <tr>\n",
    "      <td>Code lauffähig, aber mit minimalen Mängeln</td>\n",
    "      <td>Der Code läuft und liefert ein weitgehend korrektes Ergebnis, aber kleinere Fehler (z.B. Achsenbeschriftung oder Titel in Graphik fehlt) beeinträchtigen die Vollständigkeit des Ergebnisses.</td>\n",
    "      <td>75% der max. erreichbaren Punkte</td>\n",
    "    </tr>\n",
    "    <tr>\n",
    "      <td>Code lauffähig und korrekt</td>\n",
    "      <td>Der Code läuft einwandfrei und liefert das korrekte Ergebnis ohne Mängel.</td>\n",
    "      <td>100% der max. erreichbaren Punkte</td>\n",
    "    </tr>\n",
    "  </tbody>\n",
    "</table>\n"
   ]
  },
  {
   "cell_type": "markdown",
   "id": "9b8df3dd",
   "metadata": {},
   "source": [
    "## Python Libraries und Settings"
   ]
  },
  {
   "cell_type": "code",
   "execution_count": 1,
   "id": "b027d889",
   "metadata": {},
   "outputs": [
    {
     "name": "stdout",
     "output_type": "stream",
     "text": [
      "/workspaces/python_exploratory_data_analysis\n"
     ]
    }
   ],
   "source": [
    "# Libraries\n",
    "import os\n",
    "import re\n",
    "import random\n",
    "import sqlite3\n",
    "import pandas as pd\n",
    "import numpy as np\n",
    "import seaborn as sns\n",
    "import matplotlib.pyplot as plt\n",
    "import statsmodels.api as sm\n",
    "from datetime import datetime, timedelta\n",
    "from sqlalchemy import create_engine, text\n",
    "\n",
    "# seaborn graphics settings\n",
    "sns.set_theme(color_codes=True)\n",
    "\n",
    "# Ignore warnings\n",
    "import warnings\n",
    "warnings.filterwarnings(\"ignore\")\n",
    "\n",
    "# Show current working directory\n",
    "print(os.getcwd())"
   ]
  },
  {
   "cell_type": "markdown",
   "id": "aac9011e",
   "metadata": {},
   "source": [
    "## <b>Vorbereitung (Dieser Teil wird <u>nicht</u> bewertet!)</b>"
   ]
  },
  {
   "cell_type": "markdown",
   "id": "2e253f40",
   "metadata": {},
   "source": [
    "#### <b>1.) Starten Sie eine GitHub Codespaces Instanz auf Basis Ihres Forks des folgenden GitHub Repositories:</b>\n",
    "\n",
    "##### GitHub-Repository: https://github.com/mario-gellrich-zhaw/python_exploratory_data_analysis\n"
   ]
  },
  {
   "cell_type": "markdown",
   "id": "e5c27b72",
   "metadata": {},
   "source": [
    "## <b>Aufgaben (Dieser Teil wird bewertet!)</b>\n",
    "<b style=\"color:blue;\">Hinweise zu den folgenden Aufgabenstellungen:</b>\n",
    "<ul style=\"color:blue;\">\n",
    "  <li>Beachten Sie auch die zu jeder Aufgabenstellung zugehörenden Details zu Aufgabenstellung.</li>\n",
    "  <li>Lösen Sie jede Aufgabe mit Hilfe von Python Code. Integrieren Sie den Python Code in die Code-Zellen der jeweiligen Aufgabe.</li>\n",
    "  <li>Stellen Sie die Lösung(en) jeder Aufgabe ganz oder in Teilen (z.B. erste 5 Zeilen) eines DataFrames im Jupyter Notebook dar.</li>\n",
    "  <li>Stellen Sie sämtliche von Ihnen erstellte Graphiken im Jupyter Notebook dar.</li>\n",
    "</ul>"
   ]
  },
  {
   "cell_type": "markdown",
   "id": "6033f466",
   "metadata": {},
   "source": [
    "#### <b>Aufgabe (1): Lesen Sie den Datensatz 'smartphone_data.csv' aus dem Order 'Data' ein, und speichern Sie diesen in einem pandas DataFrame.</b>\n",
    "<b>Details zur Aufgabenstellung:</b>\n",
    "- Zeigen Sie die Dimension des DataFrames (Zeilen und Spalten) im Jupyter Notebook an.\n",
    "- Zeigen Sie die Datentypen sämtlicher Spalten des DataFrames im Jupyter Notebook an.\n",
    "- Zeigen Sie die ersten Zeilen des DataFrames im Jupyter Notebook an.<br><br>\n",
    "\n",
    "- Tipp: Berücksichtigen Sie den Pfad der Ablage der Daten im Ordner Data ('./Data/smartphone_data.csv').\n",
    "\n",
    "<b style=\"color: gray;\">(max. erreichbare Punkte: 4)</b>"
   ]
  },
  {
   "cell_type": "code",
   "execution_count": 6,
   "id": "fdfcb555",
   "metadata": {},
   "outputs": [
    {
     "name": "stdout",
     "output_type": "stream",
     "text": [
      "Anzahl Zeilen: 5000\n",
      "Anzahl Spalten: 12\n"
     ]
    },
    {
     "data": {
      "text/html": [
       "<div>\n",
       "<style scoped>\n",
       "    .dataframe tbody tr th:only-of-type {\n",
       "        vertical-align: middle;\n",
       "    }\n",
       "\n",
       "    .dataframe tbody tr th {\n",
       "        vertical-align: top;\n",
       "    }\n",
       "\n",
       "    .dataframe thead th {\n",
       "        text-align: right;\n",
       "    }\n",
       "</style>\n",
       "<table border=\"1\" class=\"dataframe\">\n",
       "  <thead>\n",
       "    <tr style=\"text-align: right;\">\n",
       "      <th></th>\n",
       "      <th>offer_id</th>\n",
       "      <th>dealer_plz</th>\n",
       "      <th>dealer_city</th>\n",
       "      <th>dealer_street_house_nr</th>\n",
       "      <th>make</th>\n",
       "      <th>model</th>\n",
       "      <th>price_raw</th>\n",
       "      <th>camera_resolution_raw</th>\n",
       "      <th>battery_life_raw</th>\n",
       "      <th>storage_size_raw</th>\n",
       "      <th>screen_size_raw</th>\n",
       "      <th>description_raw</th>\n",
       "    </tr>\n",
       "  </thead>\n",
       "  <tbody>\n",
       "    <tr>\n",
       "      <th>0</th>\n",
       "      <td>83197857</td>\n",
       "      <td>6394</td>\n",
       "      <td>Volketswil</td>\n",
       "      <td>Blaserstrasse 19</td>\n",
       "      <td>Apple</td>\n",
       "      <td>iPhone 13</td>\n",
       "      <td>CHF 2518.-</td>\n",
       "      <td>20 MP</td>\n",
       "      <td>16 hrs</td>\n",
       "      <td>256 GB</td>\n",
       "      <td>6.1 IN</td>\n",
       "      <td>Langlebige Batterie mit Schnellladefunktion, d...</td>\n",
       "    </tr>\n",
       "    <tr>\n",
       "      <th>1</th>\n",
       "      <td>36687537</td>\n",
       "      <td>9532</td>\n",
       "      <td>Oberwil</td>\n",
       "      <td>Furrerstrasse 1</td>\n",
       "      <td>Vivo</td>\n",
       "      <td>Vivo V21</td>\n",
       "      <td>CHF 266.-</td>\n",
       "      <td>12 MP</td>\n",
       "      <td>16 hrs</td>\n",
       "      <td>128 GB</td>\n",
       "      <td>5.8 IN</td>\n",
       "      <td>Modernste Gesichtserkennungstechnologie für Si...</td>\n",
       "    </tr>\n",
       "    <tr>\n",
       "      <th>2</th>\n",
       "      <td>66722344</td>\n",
       "      <td>2227</td>\n",
       "      <td>Rüti</td>\n",
       "      <td>Maierstrasse 31</td>\n",
       "      <td>Vivo</td>\n",
       "      <td>Vivo V21</td>\n",
       "      <td>CHF 424.-</td>\n",
       "      <td>12 MP</td>\n",
       "      <td>20 hrs</td>\n",
       "      <td>256 GB</td>\n",
       "      <td>5.8 IN</td>\n",
       "      <td>Ultra-HD-Display für eine atemberaubende Bildq...</td>\n",
       "    </tr>\n",
       "    <tr>\n",
       "      <th>3</th>\n",
       "      <td>56164955</td>\n",
       "      <td>5766</td>\n",
       "      <td>Bülach</td>\n",
       "      <td>Sidlerstrasse 6</td>\n",
       "      <td>Google</td>\n",
       "      <td>Pixel 6a</td>\n",
       "      <td>CHF 597.-</td>\n",
       "      <td>12 MP</td>\n",
       "      <td>25 hrs</td>\n",
       "      <td>64 GB</td>\n",
       "      <td>5.8 IN</td>\n",
       "      <td>Mit Stiftunterstützung für Kreativität und Prä...</td>\n",
       "    </tr>\n",
       "    <tr>\n",
       "      <th>4</th>\n",
       "      <td>94374605</td>\n",
       "      <td>8304</td>\n",
       "      <td>Belp</td>\n",
       "      <td>Steinerstrasse 8</td>\n",
       "      <td>Google</td>\n",
       "      <td>Pixel 6</td>\n",
       "      <td>CHF 1934.-</td>\n",
       "      <td>20 MP</td>\n",
       "      <td>23 hrs</td>\n",
       "      <td>64 GB</td>\n",
       "      <td>5.8 IN</td>\n",
       "      <td>Aufgeteilt in benutzerfreundliche Kategorien f...</td>\n",
       "    </tr>\n",
       "  </tbody>\n",
       "</table>\n",
       "</div>"
      ],
      "text/plain": [
       "   offer_id  dealer_plz dealer_city dealer_street_house_nr    make      model  \\\n",
       "0  83197857        6394  Volketswil       Blaserstrasse 19   Apple  iPhone 13   \n",
       "1  36687537        9532     Oberwil        Furrerstrasse 1    Vivo   Vivo V21   \n",
       "2  66722344        2227        Rüti        Maierstrasse 31    Vivo   Vivo V21   \n",
       "3  56164955        5766      Bülach        Sidlerstrasse 6  Google   Pixel 6a   \n",
       "4  94374605        8304        Belp       Steinerstrasse 8  Google    Pixel 6   \n",
       "\n",
       "    price_raw camera_resolution_raw battery_life_raw storage_size_raw  \\\n",
       "0  CHF 2518.-                 20 MP           16 hrs           256 GB   \n",
       "1   CHF 266.-                 12 MP           16 hrs           128 GB   \n",
       "2   CHF 424.-                 12 MP           20 hrs           256 GB   \n",
       "3   CHF 597.-                 12 MP           25 hrs            64 GB   \n",
       "4  CHF 1934.-                 20 MP           23 hrs            64 GB   \n",
       "\n",
       "  screen_size_raw                                    description_raw  \n",
       "0          6.1 IN  Langlebige Batterie mit Schnellladefunktion, d...  \n",
       "1          5.8 IN  Modernste Gesichtserkennungstechnologie für Si...  \n",
       "2          5.8 IN  Ultra-HD-Display für eine atemberaubende Bildq...  \n",
       "3          5.8 IN  Mit Stiftunterstützung für Kreativität und Prä...  \n",
       "4          5.8 IN  Aufgeteilt in benutzerfreundliche Kategorien f...  "
      ]
     },
     "execution_count": 6,
     "metadata": {},
     "output_type": "execute_result"
    }
   ],
   "source": [
    "# Einlesen der Daten 'smartphone_data.csv' aus dem Order 'Data' in ein DataFrame 'df'\n",
    "df = pd.read_csv(\"./Data/smartphone_data.csv\", sep=\";\")\n",
    "\n",
    "# Anzeigen der Dimension des DataFrames (Zeilen und Spalten)\n",
    "print(f\"Anzahl Zeilen: {df.shape[0]}\")\n",
    "print(f\"Anzahl Spalten: {df.shape[1]}\")\n",
    "\n",
    "# Anzeigen der Datentypen sämtlicher Spalten des DataFrames\n",
    "df.dtypes\n",
    "\n",
    "# Anzeigen der ersten 5 Zeilen des DataFrames\n",
    "df.head(5)"
   ]
  },
  {
   "cell_type": "markdown",
   "id": "1ecba494",
   "metadata": {},
   "source": [
    "<div style=\"background-color: #F0EAD6;\">\n",
    "\n",
    "#### <b> Hinweis! \n",
    "\n",
    "#### Falls Sie den Datensatz 'smartphone_data.csv' nicht einlesen konnten, verwenden Sie die SQLite DB 'smartphone_data.db' im Order 'Data'.</b>\n",
    "\n",
    "#### <b> Der folgende Python-Code liesst die Daten aus der SQLite DB in ein pandas DataFrame mit dem Namen 'df'.</b>\n",
    "\n",
    "```python\n",
    "# Engine für Datenbankverbindung erstellen\n",
    "engine = create_engine('sqlite:///./Data/smartphone_data.db')\n",
    "\n",
    "# SQL Abfrage\n",
    "df = pd.read_sql_query(\"\"\"SELECT * FROM smartphone_data\"\"\",\n",
    "                          con=engine)\n",
    "\n",
    "# Schliessen der Datenbankverbindung\n",
    "engine.dispose()\n",
    "\n",
    "# Anzeigen des DataFrames (erste 5 Zeilen)\n",
    "df.head()\n",
    "```\n",
    "</div>"
   ]
  },
  {
   "cell_type": "markdown",
   "id": "c31d4887",
   "metadata": {},
   "source": [
    "#### <b>Aufgabe (2): Extrahieren Sie die numerischen Werte der folgenden Variablen, und speichern Sie diese in separaten Variablen im DataFrame ab.</b>\n",
    "<b>Details zur Aufgabenstellung:</b>\n",
    "- Extrahieren Sie die numerischen Werte der folgenden Variablen, und speichern Sie diese in separaten Variablen ab:\n",
    "  - price_raw\n",
    "  - camera_resolution_raw\n",
    "  - battery_life_raw\n",
    "  - storage_size_raw\n",
    "  - screen_size_raw<br>\n",
    "- Benennen Sie die Spalten der neuen Variablen als (in Klammern ist der Datentyp angegeben):\n",
    "  - price (int64)\n",
    "  - camera_resolution (int64)\n",
    "  - battery_life (int64)\n",
    "  - storage_size (int64)\n",
    "  - screen_size (float64)\n",
    "- Stellen Sie ein Subset des DataFrames nur mit den neuen Spalten und den ersten 5 Zeilen im Jupyter Notebook dar.<br><br>\n",
    "- Die folgenden regular expressions sind eine Hilfestellung zum Lösen der Aufgabe:<br>\n",
    "  ```python\n",
    "  \"CHF\\s*(\\d+)\\.-\"\n",
    "  \"(\\d+)\\s*MP\"\n",
    "  \"(\\d+)\\s*hrs\"\n",
    "  \"(\\d+)\\s*GB\"\n",
    "  \"(\\d+\\.\\d+)\\s*IN\"\n",
    "  ```\n",
    "  \n",
    "<b style=\"color: gray;\">(max. erreichbare Punkte: 8)</b>"
   ]
  },
  {
   "cell_type": "code",
   "execution_count": 12,
   "id": "97eb6bca",
   "metadata": {},
   "outputs": [],
   "source": [
    "# Extrahieren der numerischen Werte aus 'price_raw' und speichern in separaten Variablen\n",
    "df['price'] = df['price_raw'].str.extract(r'CHF\\s*(\\d+)\\.-').astype(int)\n"
   ]
  },
  {
   "cell_type": "code",
   "execution_count": 16,
   "id": "6d4d7f5b",
   "metadata": {},
   "outputs": [],
   "source": [
    "# Extrahieren der numerischen Werte aus 'camera_resolution_raw' und speichern in separaten Variablen\n",
    "df['camera_resolution'] = df['camera_resolution_raw'].str.extract(r'(\\d+)\\s*MP').astype(int)"
   ]
  },
  {
   "cell_type": "code",
   "execution_count": null,
   "id": "229d19cb",
   "metadata": {},
   "outputs": [],
   "source": [
    "# Extrahieren der numerischen Werte aus 'battery_life_raw' und speichern in separaten Variablen\n",
    "df['battery_life'] = df['battery_life_raw'].str.extract(r'(\\d+)\\s*hrs').astype(int)\n"
   ]
  },
  {
   "cell_type": "code",
   "execution_count": 20,
   "id": "06f3b7d0",
   "metadata": {},
   "outputs": [],
   "source": [
    "# Extrahieren der numerischen Werte aus 'storage_size_raw' und speichern in separaten Variablen\n",
    "df['storage_size'] = df['storage_size_raw'].str.extract(r'(\\d+)\\s*GB').astype(int)\n"
   ]
  },
  {
   "cell_type": "code",
   "execution_count": 23,
   "id": "b661e5dc",
   "metadata": {},
   "outputs": [],
   "source": [
    "# Extrahieren der numerischen Werte aus 'screen_size_raw' und speichern in separaten Variablen (Tipp: float64 statt int64)\n",
    "df['screen_size'] = df['screen_size_raw'].str.extract(r'(\\d+\\.\\d+)\\s*IN').astype(float)\n"
   ]
  },
  {
   "cell_type": "code",
   "execution_count": 25,
   "id": "387f8a7a",
   "metadata": {},
   "outputs": [
    {
     "data": {
      "text/html": [
       "<div>\n",
       "<style scoped>\n",
       "    .dataframe tbody tr th:only-of-type {\n",
       "        vertical-align: middle;\n",
       "    }\n",
       "\n",
       "    .dataframe tbody tr th {\n",
       "        vertical-align: top;\n",
       "    }\n",
       "\n",
       "    .dataframe thead th {\n",
       "        text-align: right;\n",
       "    }\n",
       "</style>\n",
       "<table border=\"1\" class=\"dataframe\">\n",
       "  <thead>\n",
       "    <tr style=\"text-align: right;\">\n",
       "      <th></th>\n",
       "      <th>price</th>\n",
       "      <th>camera_resolution</th>\n",
       "      <th>battery_life</th>\n",
       "      <th>storage_size</th>\n",
       "      <th>screen_size</th>\n",
       "    </tr>\n",
       "  </thead>\n",
       "  <tbody>\n",
       "    <tr>\n",
       "      <th>0</th>\n",
       "      <td>2518</td>\n",
       "      <td>20</td>\n",
       "      <td>16</td>\n",
       "      <td>256</td>\n",
       "      <td>6.1</td>\n",
       "    </tr>\n",
       "    <tr>\n",
       "      <th>1</th>\n",
       "      <td>266</td>\n",
       "      <td>12</td>\n",
       "      <td>16</td>\n",
       "      <td>128</td>\n",
       "      <td>5.8</td>\n",
       "    </tr>\n",
       "    <tr>\n",
       "      <th>2</th>\n",
       "      <td>424</td>\n",
       "      <td>12</td>\n",
       "      <td>20</td>\n",
       "      <td>256</td>\n",
       "      <td>5.8</td>\n",
       "    </tr>\n",
       "    <tr>\n",
       "      <th>3</th>\n",
       "      <td>597</td>\n",
       "      <td>12</td>\n",
       "      <td>25</td>\n",
       "      <td>64</td>\n",
       "      <td>5.8</td>\n",
       "    </tr>\n",
       "    <tr>\n",
       "      <th>4</th>\n",
       "      <td>1934</td>\n",
       "      <td>20</td>\n",
       "      <td>23</td>\n",
       "      <td>64</td>\n",
       "      <td>5.8</td>\n",
       "    </tr>\n",
       "  </tbody>\n",
       "</table>\n",
       "</div>"
      ],
      "text/plain": [
       "   price  camera_resolution  battery_life  storage_size  screen_size\n",
       "0   2518                 20            16           256          6.1\n",
       "1    266                 12            16           128          5.8\n",
       "2    424                 12            20           256          5.8\n",
       "3    597                 12            25            64          5.8\n",
       "4   1934                 20            23            64          5.8"
      ]
     },
     "execution_count": 25,
     "metadata": {},
     "output_type": "execute_result"
    }
   ],
   "source": [
    "# Anzeigen Subset des DataFrames nur mit den neuen Variablen und den ersten 5 Zeilen\n",
    "df[['price', 'camera_resolution', 'battery_life', 'storage_size', 'screen_size']].head(5)"
   ]
  },
  {
   "cell_type": "markdown",
   "id": "acc3fec8",
   "metadata": {},
   "source": [
    "#### <b>Aufgabe (3): Erstellen Sie statistische Kennzahlen zu den numerischen Variablen im DataFrame.</b>\n",
    "<b>Details zur Aufgabenstellung:</b>\n",
    "- Berechnen Sie die statistische Kennzahlen für die Variablen 'price', 'camera_resolution', 'battery_life', 'storage_size', 'screen_size'.\n",
    "- Die statistische Kennzahlen, welche berechnet werden sollen sind (engl. Bezeichnungen): \n",
    "  - Count\n",
    "  - Mean\n",
    "  - Standard Deviation (std)\n",
    "  - Minimum\n",
    "  - 25th Percentile (= 1st Quartile)\n",
    "  - 50th Percentile (= Median)\n",
    "  - 75th Percentile (= 3rd Quartile)\n",
    "  - Maximum\n",
    "  - Skewness\n",
    "- Stellen Sie die berechneten statistische Kennzahlen im Jupyter Notebook dar (es können auch verschiedene Ergebnistabellen angezeigt werden).<br><br>\n",
    "\n",
    "- Tipp: Nicht alle Python - Methoden verwenden automatisch nur die numerischen Variablen. In diesen Fällen muss ein Subset der numerischen Variablen erstellt werden.\n",
    "\n",
    "<b style=\"color: gray;\">(max. erreichbare Punkte: 4)</b>"
   ]
  },
  {
   "cell_type": "code",
   "execution_count": null,
   "id": "149fbe5c",
   "metadata": {},
   "outputs": [
    {
     "name": "stdout",
     "output_type": "stream",
     "text": [
      "           offer_id   dealer_plz         price  camera_resolution  \\\n",
      "count  5.000000e+03  5000.000000   5000.000000        5000.000000   \n",
      "mean   5.519727e+07  5559.514600   1391.032000          22.994400   \n",
      "std    2.581500e+07  2599.283628   1359.775562          21.901779   \n",
      "min    1.000804e+07  1000.000000     18.000000          12.000000   \n",
      "25%    3.305920e+07  3300.500000    546.000000          12.000000   \n",
      "50%    5.490894e+07  5557.500000    975.500000          16.000000   \n",
      "75%    7.725368e+07  7784.500000   1763.000000          20.000000   \n",
      "max    9.998545e+07  9999.000000  17091.000000         108.000000   \n",
      "\n",
      "       battery_life  storage_size  screen_size  \n",
      "count   5000.000000   5000.000000  5000.000000  \n",
      "mean      22.555800    210.995200     6.146100  \n",
      "std        5.306234    165.655562     0.357886  \n",
      "min       15.000000     64.000000     5.800000  \n",
      "25%       18.000000     64.000000     5.800000  \n",
      "50%       22.000000    128.000000     6.100000  \n",
      "75%       26.000000    256.000000     6.500000  \n",
      "max       35.000000    512.000000     6.900000  \n",
      "offer_id            -0.001554\n",
      "dealer_plz          -0.021582\n",
      "price                3.005238\n",
      "camera_resolution    2.757996\n",
      "battery_life         0.485760\n",
      "storage_size         0.965733\n",
      "screen_size          0.661643\n",
      "dtype: float64\n"
     ]
    }
   ],
   "source": [
    "# Einlesen der aufbereiteten Daten (damit alle auf dem gleichen Stand sind)\n",
    "engine = create_engine('sqlite:///./Data/smartphone_data_prepared.db')\n",
    "df = pd.read_sql_query(\"\"\"SELECT * FROM smartphone_data_prepared\"\"\", con=engine)\n",
    "engine.dispose()\n",
    "\n",
    "# Berechnung der statistischen Kennzahlen der numerischen Spalten in 'df'\n",
    "print(df.describe())\n",
    "\n",
    "# Separate Berechnung der Skewness der numerischen Spalten\n",
    "print(df[['offer_id', 'dealer_plz','price','camera_resolution', 'battery_life', 'storage_size','screen_size']].skew())"
   ]
  },
  {
   "cell_type": "markdown",
   "id": "2b80dc61",
   "metadata": {},
   "source": [
    "#### <b>Aufgabe (4): Erstellen Sie eine Pivot-Tabelle mit den Mittwelwerten der numerischen Variablen pro Hersteller.</b>\n",
    "<b>Details zur Aufgabenstellung:</b>\n",
    "- Die Angabe zum Hersteller finden Sie in der Variable 'make'.\n",
    "- Verwenden Sie die für die Mittelwertsberechnung die Variablen 'price', 'camera_resolution', 'battery_life', 'storage_size', 'screen_size'.\n",
    "- Stellen Sie die Pivot-Tabelle im Jupyter Notebook dar.\n",
    "\n",
    "<b style=\"color: gray;\">(max. erreichbare Punkte: 4)</b>"
   ]
  },
  {
   "cell_type": "code",
   "execution_count": 30,
   "id": "077a187d-05be-4c30-a367-a4e1a19d4466",
   "metadata": {},
   "outputs": [
    {
     "data": {
      "text/html": [
       "<div>\n",
       "<style scoped>\n",
       "    .dataframe tbody tr th:only-of-type {\n",
       "        vertical-align: middle;\n",
       "    }\n",
       "\n",
       "    .dataframe tbody tr th {\n",
       "        vertical-align: top;\n",
       "    }\n",
       "\n",
       "    .dataframe thead tr th {\n",
       "        text-align: left;\n",
       "    }\n",
       "\n",
       "    .dataframe thead tr:last-of-type th {\n",
       "        text-align: right;\n",
       "    }\n",
       "</style>\n",
       "<table border=\"1\" class=\"dataframe\">\n",
       "  <thead>\n",
       "    <tr>\n",
       "      <th></th>\n",
       "      <th colspan=\"2\" halign=\"left\">battery_life</th>\n",
       "      <th colspan=\"2\" halign=\"left\">camera_resolution</th>\n",
       "      <th colspan=\"2\" halign=\"left\">price</th>\n",
       "      <th colspan=\"2\" halign=\"left\">screen_size</th>\n",
       "      <th colspan=\"2\" halign=\"left\">storage_size</th>\n",
       "    </tr>\n",
       "    <tr>\n",
       "      <th></th>\n",
       "      <th>count</th>\n",
       "      <th>mean</th>\n",
       "      <th>count</th>\n",
       "      <th>mean</th>\n",
       "      <th>count</th>\n",
       "      <th>mean</th>\n",
       "      <th>count</th>\n",
       "      <th>mean</th>\n",
       "      <th>count</th>\n",
       "      <th>mean</th>\n",
       "    </tr>\n",
       "    <tr>\n",
       "      <th>make</th>\n",
       "      <th></th>\n",
       "      <th></th>\n",
       "      <th></th>\n",
       "      <th></th>\n",
       "      <th></th>\n",
       "      <th></th>\n",
       "      <th></th>\n",
       "      <th></th>\n",
       "      <th></th>\n",
       "      <th></th>\n",
       "    </tr>\n",
       "  </thead>\n",
       "  <tbody>\n",
       "    <tr>\n",
       "      <th>Apple</th>\n",
       "      <td>1011</td>\n",
       "      <td>22.61</td>\n",
       "      <td>1011</td>\n",
       "      <td>23.23</td>\n",
       "      <td>1011</td>\n",
       "      <td>2120.24</td>\n",
       "      <td>1011</td>\n",
       "      <td>6.13</td>\n",
       "      <td>1011</td>\n",
       "      <td>208.90</td>\n",
       "    </tr>\n",
       "    <tr>\n",
       "      <th>Google</th>\n",
       "      <td>970</td>\n",
       "      <td>22.48</td>\n",
       "      <td>970</td>\n",
       "      <td>22.32</td>\n",
       "      <td>970</td>\n",
       "      <td>1583.31</td>\n",
       "      <td>970</td>\n",
       "      <td>6.16</td>\n",
       "      <td>970</td>\n",
       "      <td>214.17</td>\n",
       "    </tr>\n",
       "    <tr>\n",
       "      <th>Samsung</th>\n",
       "      <td>1024</td>\n",
       "      <td>22.62</td>\n",
       "      <td>1024</td>\n",
       "      <td>22.37</td>\n",
       "      <td>1024</td>\n",
       "      <td>1343.23</td>\n",
       "      <td>1024</td>\n",
       "      <td>6.16</td>\n",
       "      <td>1024</td>\n",
       "      <td>209.06</td>\n",
       "    </tr>\n",
       "    <tr>\n",
       "      <th>Vivo</th>\n",
       "      <td>978</td>\n",
       "      <td>22.65</td>\n",
       "      <td>978</td>\n",
       "      <td>23.80</td>\n",
       "      <td>978</td>\n",
       "      <td>842.75</td>\n",
       "      <td>978</td>\n",
       "      <td>6.15</td>\n",
       "      <td>978</td>\n",
       "      <td>214.25</td>\n",
       "    </tr>\n",
       "    <tr>\n",
       "      <th>Xiaomi</th>\n",
       "      <td>1017</td>\n",
       "      <td>22.41</td>\n",
       "      <td>1017</td>\n",
       "      <td>23.26</td>\n",
       "      <td>1017</td>\n",
       "      <td>1058.12</td>\n",
       "      <td>1017</td>\n",
       "      <td>6.13</td>\n",
       "      <td>1017</td>\n",
       "      <td>208.87</td>\n",
       "    </tr>\n",
       "  </tbody>\n",
       "</table>\n",
       "</div>"
      ],
      "text/plain": [
       "        battery_life        camera_resolution        price           \\\n",
       "               count   mean             count   mean count     mean   \n",
       "make                                                                  \n",
       "Apple           1011  22.61              1011  23.23  1011  2120.24   \n",
       "Google           970  22.48               970  22.32   970  1583.31   \n",
       "Samsung         1024  22.62              1024  22.37  1024  1343.23   \n",
       "Vivo             978  22.65               978  23.80   978   842.75   \n",
       "Xiaomi          1017  22.41              1017  23.26  1017  1058.12   \n",
       "\n",
       "        screen_size       storage_size          \n",
       "              count  mean        count    mean  \n",
       "make                                            \n",
       "Apple          1011  6.13         1011  208.90  \n",
       "Google          970  6.16          970  214.17  \n",
       "Samsung        1024  6.16         1024  209.06  \n",
       "Vivo            978  6.15          978  214.25  \n",
       "Xiaomi         1017  6.13         1017  208.87  "
      ]
     },
     "execution_count": 30,
     "metadata": {},
     "output_type": "execute_result"
    }
   ],
   "source": [
    "# Erstellen der Pivot-Tabelle\n",
    "pivot = pd.pivot_table(df[['make', 'price', 'camera_resolution', 'battery_life', 'storage_size', 'screen_size']],\n",
    "               index=['make'],\n",
    "               values=['price', 'camera_resolution', 'battery_life', 'storage_size', 'screen_size'],\n",
    "               aggfunc=(np.mean, 'count')).round(2)\n",
    "\n",
    "# Anzeigen der Pivot-Tabelle\n",
    "pivot"
   ]
  },
  {
   "cell_type": "markdown",
   "id": "ba5b3943",
   "metadata": {},
   "source": [
    "#### <b>Aufgabe (5): Erstellen Sie ein Histogramm der Variable 'price'.</b>\n",
    "<b>Details zur Aufgabenstellung: </b>\n",
    "- Setzen Sie die Anzahl der Klassen (engl.: bins) auf den Wert 25.\n",
    "- Beschriften Sie die Achsen des Histogramms, und fügen Sie einen Titel hinzu.\n",
    "- Fügen Sie der Graphik ein Gitternetz (engl.: grid) hinzu.\n",
    "- Zeigen Sie das Histogramm im Jupyter Notebook an. \n",
    "\n",
    "<b style=\"color: gray;\">(max. erreichbare Punkte: 8)</b>"
   ]
  },
  {
   "cell_type": "code",
   "execution_count": 33,
   "id": "c2d69f01",
   "metadata": {},
   "outputs": [
    {
     "data": {
      "image/png": "[encoded data removed]",
      "text/plain": [
       "<Figure size 700x400 with 1 Axes>"
      ]
     },
     "metadata": {},
     "output_type": "display_data"
    }
   ],
   "source": [
    "# Erstellen, Beschriften und Anzeigen des Histogramms\n",
    "# Plot Histogram\n",
    "fig = plt.figure( figsize=(7,4))\n",
    "\n",
    "plt.xticks(fontsize=14, rotation=0)\n",
    "plt.yticks(fontsize=14, rotation=0)\n",
    "\n",
    "n, bins, patches = plt.hist(x=df['price'], \n",
    "                            bins=25, \n",
    "                            color='#42AD12',\n",
    "                            alpha=0.8, \n",
    "                            rwidth=0.95\n",
    "                   )\n",
    "plt.grid(True)\n",
    "plt.ticklabel_format(style='plain')\n",
    "plt.grid(axis='y', alpha=0.75)\n",
    "\n",
    "# Set labels\n",
    "plt.xlabel('price (CHF)', fontsize=10, labelpad=10)\n",
    "plt.ylabel('Number of phones', fontsize=10, labelpad=10)\n",
    "plt.title('Histogram of smartphone prices', fontsize=12, pad=10)\n",
    "\n",
    "# Set fontsize of tick labels\n",
    "plt.xticks(fontsize = 10)\n",
    "plt.yticks(fontsize = 10)\n",
    "\n",
    "plt.show()"
   ]
  },
  {
   "cell_type": "markdown",
   "id": "08bd20f4",
   "metadata": {},
   "source": [
    "#### <b>Aufgabe (6): Erstellen Sie einen gruppierten Boxplot mit den Preisen pro Hersteller.</b>\n",
    "<b>Details zur Aufgabenstellung: </b>\n",
    "- Verwenden Sie die Python Library seaborn für die Erstellung des gruppieren Boxplots.\n",
    "- Die Angabe zum Hersteller (=Gruppierungsvariable) finden Sie in der Variable 'make'.\n",
    "- Beschriften Sie die Achsen und geben Sie der Graphik einen Titel.\n",
    "- Stellen Sie den gruppierten Boxplot im Jupyter Notebook dar.<br><br>\n",
    "\n",
    "- Tipp: Für die Erstellung des gruppierten Boxplots können Sie Vorlagen aus der seaborn - Hilfe verwenden (vgl. Abschnitt: 'Group by a categorical variable ...'):<br><br>\n",
    "  https://seaborn.pydata.org/generated/seaborn.boxplot.html\n",
    "\n",
    "\n",
    "<b style=\"color: gray;\">(max. erreichbare Punkte: 8)</b>"
   ]
  },
  {
   "cell_type": "code",
   "execution_count": 42,
   "id": "504ca399",
   "metadata": {},
   "outputs": [
    {
     "data": {
      "text/plain": [
       "Text(0.5, 1.0, 'Boxplot with Prices (grouped by manufacturer)')"
      ]
     },
     "execution_count": 42,
     "metadata": {},
     "output_type": "execute_result"
    },
    {
     "data": {
      "image/png": "[encoded data removed]",
      "text/plain": [
       "<Figure size 800x500 with 1 Axes>"
      ]
     },
     "metadata": {},
     "output_type": "display_data"
    }
   ],
   "source": [
    "# Erstellen, Beschriften und Anzeigen des gruppierten Boxplots\n",
    "plt.figure(figsize=(8,5))\n",
    "plt.ticklabel_format(style='plain')\n",
    "sns.boxplot(x=df['price'], y=df['make'], color=\"greenyellow\")\n",
    "plt.title(\"Boxplot with Prices (grouped by manufacturer)\", fontsize=14, pad=10)"
   ]
  },
  {
   "cell_type": "markdown",
   "id": "d67e3225",
   "metadata": {},
   "source": [
    "#### <b>Aufgabe (7): Erstellen Sie ein Barchart mit der Anzahl Smartphones pro Hersteller.</b>\n",
    "<b>Details zur Aufgabenstellung:</b>\n",
    "- Ergänzen Sie den Python Code unten dort wo notwendig.\n",
    "- Die Angabe zum Hersteller finden Sie in der Variable 'make'.\n",
    "- Im Barchart müssen die Hersteller auf der vertikalen und die Anzahl Smartphones auf der horizontalen Achse abgebildet sein.\n",
    "- Im Barchart müssen die Anzahl Smartphones pro Hersteller der Grösse nach absteigend sortiert sein.\n",
    "- Beschriften Sie die Achsen des Barcharts und geben Sie dem Barchart einen Titel.<br><br>\n",
    "\n",
    "<b style=\"color: gray;\">(max. erreichbare Punkte: 8)</b>"
   ]
  },
  {
   "cell_type": "code",
   "execution_count": 44,
   "id": "909478da",
   "metadata": {},
   "outputs": [
    {
     "data": {
      "image/png": "[encoded data removed]",
      "text/plain": [
       "<Figure size 700x400 with 1 Axes>"
      ]
     },
     "metadata": {},
     "output_type": "display_data"
    }
   ],
   "source": [
    "# Gruppierung der Daten nach 'make' und Berechnung der Anzahl Smartphones\n",
    "df_bar = df['make'].value_counts().sort_values(ascending=False)\n",
    "\n",
    "# Zusammenstellen der Werte für den Barchart\n",
    "napart = list(df_bar.values)\n",
    "index = list(df_bar.index.values)\n",
    "y_pos = np.arange(len(index))\n",
    "\n",
    "# Erstellen des Barcharts\n",
    "# Figure\n",
    "fig, ax = plt.subplots(figsize=(7,4))\n",
    "ax.barh(y_pos, napart, align='center', color='g', alpha=0.8)\n",
    "ax.set_yticks(y_pos, index)\n",
    "ax.set_xlabel('Number of phones', fontsize=10)\n",
    "ax.set_ylabel('manufacturer', fontsize=10)\n",
    "\n",
    "# Anzeigen der Graphik\n",
    "plt.show()\n"
   ]
  },
  {
   "cell_type": "markdown",
   "id": "51ec75c6",
   "metadata": {},
   "source": [
    "#### <b>Aufgabe (8): Erstellen Sie eine Correlation-Heatmap auf der Basis der numerischen Variablen.</b>\n",
    "<b>Details zur Aufgabenstellung:</b>\n",
    "- Verwenden Sie die Variablen 'price', 'camera_resolution', 'battery_life', 'storage_size', 'screen_size'.\n",
    "- Berechnen Sie auf zwei Nachkommastellen gerundete Korrelationskoeffizienten als Basis für die Correlation-Matrix und -Heatmap.\n",
    "- Stellen Sie die Correlation-Matrix im Jupyter Notebook dar.\n",
    "- Stellen Sie die Correlation-Heatmap im Jupyter Notebook dar.\n",
    "\n",
    "<b style=\"color: gray;\">(max. erreichbare Punkte: 8)</b>"
   ]
  },
  {
   "cell_type": "code",
   "execution_count": 46,
   "id": "7592f8ad",
   "metadata": {},
   "outputs": [
    {
     "name": "stdout",
     "output_type": "stream",
     "text": [
      "                   price  camera_resolution  battery_life  storage_size  \\\n",
      "price               1.00               0.35          0.17          0.33   \n",
      "camera_resolution   0.35               1.00          0.01          0.00   \n",
      "battery_life        0.17               0.01          1.00          0.01   \n",
      "storage_size        0.33               0.00          0.01          1.00   \n",
      "screen_size         0.22               0.00         -0.02          0.00   \n",
      "\n",
      "                   screen_size  \n",
      "price                     0.22  \n",
      "camera_resolution         0.00  \n",
      "battery_life             -0.02  \n",
      "storage_size              0.00  \n",
      "screen_size               1.00  \n"
     ]
    },
    {
     "data": {
      "image/png": "[encoded data removed]",
      "text/plain": [
       "<Figure size 700x400 with 2 Axes>"
      ]
     },
     "metadata": {},
     "output_type": "display_data"
    }
   ],
   "source": [
    "# Erstellen Correlation-Matrix numerischen Variablen\n",
    "corr = df[['price', 'camera_resolution', 'battery_life', 'storage_size', 'screen_size']].corr().round(2)\n",
    "print(corr)\n",
    "\n",
    "# Erstellen der Heatmap aus Correlation-Matrix\n",
    "plt.figure(figsize=(7,4))\n",
    "sns.heatmap(corr, \n",
    "            cmap=\"BrBG\", \n",
    "            annot=True)\n",
    "\n",
    "# Anzeigen der Graphik\n",
    "plt.show()"
   ]
  },
  {
   "attachments": {},
   "cell_type": "markdown",
   "id": "ff525b1e",
   "metadata": {},
   "source": [
    "### Jupyter notebook --footer info-- (please always provide this at the end of each notebook)"
   ]
  },
  {
   "cell_type": "code",
   "execution_count": 47,
   "id": "e6cae5b2",
   "metadata": {},
   "outputs": [
    {
     "name": "stdout",
     "output_type": "stream",
     "text": [
      "-----------------------------------\n",
      "POSIX\n",
      "Linux | 6.5.0-1025-azure\n",
      "Datetime: 2024-11-11 09:05:05\n",
      "Python Version: 3.11.10\n",
      "IP Address: 127.0.0.1\n",
      "-----------------------------------\n"
     ]
    }
   ],
   "source": [
    "import os\n",
    "import platform\n",
    "import socket\n",
    "from platform import python_version\n",
    "from datetime import datetime\n",
    "\n",
    "print('-----------------------------------')\n",
    "print(os.name.upper())\n",
    "print(platform.system(), '|', platform.release())\n",
    "print('Datetime:', datetime.now().strftime(\"%Y-%m-%d %H:%M:%S\"))\n",
    "print('Python Version:', python_version())\n",
    "print('IP Address:', socket.gethostbyname(socket.gethostname()))\n",
    "print('-----------------------------------')"
   ]
  }
 ],
 "metadata": {
  "kernelspec": {
   "display_name": "Python 3",
   "language": "python",
   "name": "python3"
  },
  "language_info": {
   "codemirror_mode": {
    "name": "ipython",
    "version": 3
   },
   "file_extension": ".py",
   "mimetype": "text/x-python",
   "name": "python",
   "nbconvert_exporter": "python",
   "pygments_lexer": "ipython3",
   "version": "3.11.10"
  }
 },
 "nbformat": 4,
 "nbformat_minor": 5
}
